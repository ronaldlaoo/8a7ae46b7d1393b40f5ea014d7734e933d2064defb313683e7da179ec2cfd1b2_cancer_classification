{
 "cells": [
  {
   "cell_type": "code",
   "execution_count": null,
   "id": "d82ab73c",
   "metadata": {},
   "outputs": [],
   "source": [
    "import pandas as pd\n",
    "from sklearn.model_selection import train_test_split\n",
    "from sklearn.preprocessing import StandardScaler\n",
    "import sys\n",
    "import os\n",
    "import matplotlib.pyplot as plt\n",
    "import seaborn as sns\n",
    "from sklearn.datasets import load_breast_cancer\n",
    "import numpy as np\n",
    "\n",
    "sys.path.append(os.path.abspath(\"../src\"))"
   ]
  },
  {
   "cell_type": "code",
   "execution_count": null,
   "id": "ba31c935",
   "metadata": {},
   "outputs": [],
   "source": [
    "os.getcwd()\n",
    "os.chdir(\"..\")"
   ]
  },
  {
   "cell_type": "code",
   "execution_count": null,
   "id": "eb9e542c",
   "metadata": {},
   "outputs": [],
   "source": [
    "os.getcwd()"
   ]
  },
  {
   "cell_type": "code",
   "execution_count": null,
   "id": "b0db98d2",
   "metadata": {},
   "outputs": [],
   "source": [
    "# Download the breast cancer dataset\n",
    "cancer = load_breast_cancer()\n",
    "df = pd.DataFrame(np.c_[cancer['data'], cancer['target']],\n",
    "                  columns= np.append(cancer['feature_names'], ['target']))\n",
    "df.head()\n",
    "\n",
    "df.to_csv(os.path.join(os.getcwd(),'data/raw/cancer_dataset.csv'))"
   ]
  },
  {
   "cell_type": "code",
   "execution_count": null,
   "id": "f2a47cc8",
   "metadata": {},
   "outputs": [],
   "source": [
    "df = pd.read_csv('data/raw/cancer_dataset.csv').drop(columns=['Unnamed: 0'])\n",
    "df.head()"
   ]
  },
  {
   "cell_type": "code",
   "execution_count": null,
   "id": "ffd31d1e",
   "metadata": {},
   "outputs": [],
   "source": [
    "df.isnull().sum() # no null values"
   ]
  },
  {
   "cell_type": "code",
   "execution_count": null,
   "id": "8ddcac3f",
   "metadata": {},
   "outputs": [],
   "source": [
    "# Dataset shape\n",
    "print(\"Dataset shape:\", df.shape)\n",
    "\n",
    "# Target distribution\n",
    "print(\"Target distribution:\\n\", df[\"target\"].value_counts())\n",
    "\n",
    "# Summary statistics\n",
    "print(\"Feature means:\\n\", df.drop(columns=[\"target\"]).mean().head())\n"
   ]
  },
  {
   "cell_type": "code",
   "execution_count": null,
   "id": "8e96b345",
   "metadata": {},
   "outputs": [],
   "source": [
    "# Bar plot of class distribution\n",
    "sns.countplot(x=\"target\", data=df)\n",
    "plt.title(\"Target Class Distribution\")\n",
    "plt.xlabel(\"Class\")\n",
    "plt.ylabel(\"Count\")\n",
    "plt.tight_layout()\n",
    "plt.show()\n"
   ]
  },
  {
   "cell_type": "code",
   "execution_count": null,
   "id": "8aa5a8cc",
   "metadata": {},
   "outputs": [],
   "source": [
    "def load_dataset():\n",
    "    df = pd.read_csv('data/raw/cancer_dataset.csv').drop(columns=['Unnamed: 0'])\n",
    "    X = df.drop(columns=['target'])\n",
    "    y = df['target']\n",
    "    \n",
    "    column_names = X.columns\n",
    "\n",
    "    # Scale the data\n",
    "    scaler = StandardScaler()\n",
    "    X_scaled = scaler.fit_transform(X)\n",
    "\n",
    "    # Use saved column names here\n",
    "    X_scaled = pd.DataFrame(X_scaled, columns=column_names)\n",
    "\n",
    "    X_train, X_test, y_train, y_test = train_test_split(X_scaled, y, test_size=0.2, random_state=42)\n",
    "\n",
    "    return X_train, X_test, y_train, y_test\n"
   ]
  },
  {
   "cell_type": "code",
   "execution_count": null,
   "id": "6131e173",
   "metadata": {},
   "outputs": [],
   "source": [
    "X_train, X_test, y_train, y_test = load_dataset()\n",
    "X_test.head()"
   ]
  },
  {
   "cell_type": "code",
   "execution_count": null,
   "id": "eeff083a",
   "metadata": {},
   "outputs": [],
   "source": []
  }
 ],
 "metadata": {
  "kernelspec": {
   "display_name": "8a7ae46b7d1393b40f5ea014d7734e933d2064defb313683e7da179ec2cfd1b2_cancer_classification",
   "language": "python",
   "name": "python3"
  },
  "language_info": {
   "codemirror_mode": {
    "name": "ipython",
    "version": 3
   },
   "file_extension": ".py",
   "mimetype": "text/x-python",
   "name": "python",
   "nbconvert_exporter": "python",
   "pygments_lexer": "ipython3",
   "version": "3.13.5"
  }
 },
 "nbformat": 4,
 "nbformat_minor": 5
}
