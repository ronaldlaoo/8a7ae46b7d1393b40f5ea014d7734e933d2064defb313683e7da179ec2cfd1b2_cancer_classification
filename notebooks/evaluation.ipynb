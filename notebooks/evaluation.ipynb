{
 "cells": [
  {
   "cell_type": "code",
   "execution_count": null,
   "id": "fc5818f3",
   "metadata": {},
   "outputs": [],
   "source": [
    "def evaluate_model(model_path, X_test, y_test):\n",
    "    \"\"\"\n",
    "    Load the trained model from a pickle file and evaluate on the test set.\n",
    "    \n",
    "    Parameters:\n",
    "    - model_path: Path to the saved .pkl model file\n",
    "    - X_test: Test features\n",
    "    - y_test: Test labels\n",
    "    \n",
    "    Returns:\n",
    "    - accuracy: Accuracy of the model on the test set\n",
    "    \"\"\"\n",
    "    import pickle\n",
    "    from sklearn.metrics import accuracy_score\n",
    "\n",
    "    # Load model from file\n",
    "    with open(model_path, \"rb\") as f:\n",
    "        model = pickle.load(f)\n",
    "\n",
    "    # Make predictions\n",
    "    y_pred = model.predict(X_test)\n",
    "\n",
    "    # Calculate accuracy\n",
    "    accuracy = accuracy_score(y_test, y_pred)\n",
    "\n",
    "    return accuracy"
   ]
  }
 ],
 "metadata": {
  "language_info": {
   "name": "python"
  }
 },
 "nbformat": 4,
 "nbformat_minor": 5
}
