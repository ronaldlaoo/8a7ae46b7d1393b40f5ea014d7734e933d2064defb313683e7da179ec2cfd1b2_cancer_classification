{
 "cells": [
  {
   "cell_type": "code",
   "execution_count": null,
   "id": "f3aa1b6a",
   "metadata": {},
   "outputs": [],
   "source": [
    "import pandas as pd\n",
    "import numpy as np\n",
    "from itertools import combinations\n",
    "\n",
    "def add_features(X):\n",
    "    new_X = X.copy()\n",
    "    \n",
    "    # Store new features in a dict first\n",
    "    new_cols = {}\n",
    "\n",
    "    for col1, col2 in combinations(X.columns, 2):\n",
    "        new_col_name = f\"{col1}*{col2}\"\n",
    "        new_cols[new_col_name] = X[col1] * X[col2]\n",
    "\n",
    "    new_X = pd.concat([new_X, pd.DataFrame(new_cols)], axis=1)\n",
    "\n",
    "    return new_X"
   ]
  }
 ],
 "metadata": {
  "language_info": {
   "name": "python"
  }
 },
 "nbformat": 4,
 "nbformat_minor": 5
}
