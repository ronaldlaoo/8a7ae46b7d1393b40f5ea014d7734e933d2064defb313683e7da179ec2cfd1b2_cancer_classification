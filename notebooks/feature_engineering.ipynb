{
 "cells": [
  {
   "cell_type": "code",
   "execution_count": null,
   "id": "f3aa1b6a",
   "metadata": {},
   "outputs": [],
   "source": [
    "import pandas as pd\n",
    "import numpy as np\n",
    "from itertools import combinations\n",
    "\n",
    "def add_features(X):\n",
    "    \"\"\"\n",
    "    Create new features by multiplying pairs of existing features.\n",
    "    \"\"\"\n",
    "    new_X = X.copy()\n",
    "    \n",
    "    # Store new features in a dict first\n",
    "    new_cols = {}\n",
    "\n",
    "    for col1, col2 in combinations(X.columns, 2):\n",
    "        new_col_name = f\"{col1}*{col2}\"\n",
    "        new_cols[new_col_name] = X[col1] * X[col2]\n",
    "\n",
    "    new_X = pd.concat([new_X, pd.DataFrame(new_cols)], axis=1)\n",
    "\n",
    "    return new_X"
   ]
  }
 ],
 "metadata": {
  "kernelspec": {
   "display_name": "8a7ae46b7d1393b40f5ea014d7734e933d2064defb313683e7da179ec2cfd1b2_cancer_classification",
   "language": "python",
   "name": "python3"
  },
  "language_info": {
   "codemirror_mode": {
    "name": "ipython",
    "version": 3
   },
   "file_extension": ".py",
   "mimetype": "text/x-python",
   "name": "python",
   "nbconvert_exporter": "python",
   "pygments_lexer": "ipython3",
   "version": "3.13.5"
  }
 },
 "nbformat": 4,
 "nbformat_minor": 5
}
